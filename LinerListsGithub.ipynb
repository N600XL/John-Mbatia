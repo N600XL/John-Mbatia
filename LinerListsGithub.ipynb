{
  "nbformat": 4,
  "nbformat_minor": 0,
  "metadata": {
    "colab": {
      "name": "LinerListsGithub.ipynb",
      "provenance": [],
      "authorship_tag": "ABX9TyMzP5kfv1205YC/6wZzvnB5",
      "include_colab_link": true
    },
    "kernelspec": {
      "name": "python3",
      "display_name": "Python 3"
    }
  },
  "cells": [
    {
      "cell_type": "markdown",
      "metadata": {
        "id": "view-in-github",
        "colab_type": "text"
      },
      "source": [
        "<a href=\"https://colab.research.google.com/github/N600XL/John-Mbatia/blob/main/LinerListsGithub.ipynb\" target=\"_parent\"><img src=\"https://colab.research.google.com/assets/colab-badge.svg\" alt=\"Open In Colab\"/></a>"
      ]
    },
    {
      "cell_type": "code",
      "metadata": {
        "colab": {
          "base_uri": "https://localhost:8080/"
        },
        "id": "x9HGBIG1yolI",
        "outputId": "d8a2ee27-f8f0-4b90-9dd8-453339e2ec4e"
      },
      "source": [
        "##Accessing Values in Lists\r\n",
        "\r\n",
        "list1 = ['physics', 'chemistry', 1997, 2000]\r\n",
        "list2 = [1, 2, 3, 4, 5 ]\r\n",
        "list3 = [\"a\", \"b\", \"c\", \"d\"]\r\n",
        "list1\r\n",
        "\r\n",
        "print (\"list1[0]: \", list1[0])\r\n",
        "print (\"list2[1:3]: \", list1[1:3])"
      ],
      "execution_count": 1,
      "outputs": [
        {
          "output_type": "stream",
          "text": [
            "list1[0]:  physics\n",
            "list2[1:3]:  ['chemistry', 1997]\n"
          ],
          "name": "stdout"
        }
      ]
    },
    {
      "cell_type": "code",
      "metadata": {
        "colab": {
          "base_uri": "https://localhost:8080/"
        },
        "id": "VCQ_4J8VzKXQ",
        "outputId": "e1472bc4-254f-4afa-d664-b107a0ac5ba5"
      },
      "source": [
        "##Concatenation\r\n",
        "\r\n",
        "list1 + list2"
      ],
      "execution_count": 2,
      "outputs": [
        {
          "output_type": "execute_result",
          "data": {
            "text/plain": [
              "['physics', 'chemistry', 1997, 2000, 1, 2, 3, 4, 5]"
            ]
          },
          "metadata": {
            "tags": []
          },
          "execution_count": 2
        }
      ]
    },
    {
      "cell_type": "code",
      "metadata": {
        "colab": {
          "base_uri": "https://localhost:8080/"
        },
        "id": "iib6wG5-zQdr",
        "outputId": "67cc0051-e61a-410b-c4f0-08194b222d78"
      },
      "source": [
        "##updating lists\r\n",
        "\r\n",
        "list = ['physics', 'chemistry', 1997, 2000]\r\n",
        "print (\"Value available at index 2 : \")\r\n",
        "print(list[2])\r\n",
        "list[2] = 2001\r\n",
        "print (\"New value available at index 2 : \")\r\n",
        "print(list[2])\r\n",
        "\r\n",
        "list"
      ],
      "execution_count": 3,
      "outputs": [
        {
          "output_type": "stream",
          "text": [
            "Value available at index 2 : \n",
            "1997\n",
            "New value available at index 2 : \n",
            "2001\n"
          ],
          "name": "stdout"
        },
        {
          "output_type": "execute_result",
          "data": {
            "text/plain": [
              "['physics', 'chemistry', 2001, 2000]"
            ]
          },
          "metadata": {
            "tags": []
          },
          "execution_count": 3
        }
      ]
    },
    {
      "cell_type": "code",
      "metadata": {
        "colab": {
          "base_uri": "https://localhost:8080/"
        },
        "id": "eEoB2hfQzTuM",
        "outputId": "c9ead3c9-f3ce-4fbf-ff22-2e21f341b833"
      },
      "source": [
        "##deleting lists\r\n",
        "\r\n",
        "list1 = ['physics', 'chemistry', 1997, 2000]\r\n",
        "print (list1)\r\n",
        "del list1[2]\r\n",
        "print (\"After deleting value at index 2 : \")\r\n",
        "print (list1)\r\n"
      ],
      "execution_count": 4,
      "outputs": [
        {
          "output_type": "stream",
          "text": [
            "['physics', 'chemistry', 1997, 2000]\n",
            "After deleting value at index 2 : \n",
            "['physics', 'chemistry', 2000]\n"
          ],
          "name": "stdout"
        }
      ]
    }
  ]
}